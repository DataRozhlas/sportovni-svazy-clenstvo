{
 "metadata": {
  "name": "",
  "signature": "sha256:67fe894ea036e65bf80bfadc81b7a2bc80640b58e79ca22481d22701c37d8036"
 },
 "nbformat": 3,
 "nbformat_minor": 0,
 "worksheets": [
  {
   "cells": [
    {
     "cell_type": "code",
     "collapsed": false,
     "input": [
      "import arcpy\n",
      "from arcpy import env"
     ],
     "language": "python",
     "metadata": {},
     "outputs": [],
     "prompt_number": 4
    },
    {
     "cell_type": "code",
     "collapsed": false,
     "input": [
      "env.workspace = r'C:\\DEVEL\\DATA\\sport-svazy\\sportovni_svazy.gdb'\n",
      "env.overwriteOutput = True"
     ],
     "language": "python",
     "metadata": {},
     "outputs": [],
     "prompt_number": 5
    },
    {
     "cell_type": "code",
     "collapsed": false,
     "input": [
      "ageFields = ['Shape', 'OBJECTID', 'KOD_ZSJ_D', 'NAZ_ZSJ_D', 'u112100303', 'u112100304', 'u112100403', 'u112100404', 'u112100503', 'u112100504', 'u112100603', 'u112100604', 'u112100703', 'u112100704', 'u112100803', 'u112100804', 'u112100903', 'u112100904', 'u112101003', 'u112101004', 'u112101103', 'u112101104', 'u112101203', 'u112101204', 'u112101303', 'u112101304', 'u112101403', 'u112101404', 'u112101503', 'u112101504', 'u112101603', 'u112101604', 'u112101703', 'u112101704', 'u112101803', 'u112101804', 'u112101903', 'u112101904', 'u112102003', 'u112102004', 'u112102103', 'u112102104', 'u112102203', 'u112102204', 'u112102303', 'u112102304', 'u112102403', 'u112102404', 'u112102503', 'u112102504', 'u112102603', 'u112102604', 'u112102703', 'u112102704']"
     ],
     "language": "python",
     "metadata": {},
     "outputs": [],
     "prompt_number": 25
    },
    {
     "cell_type": "code",
     "collapsed": false,
     "input": [
      "delFields  = []\n",
      "\n",
      "for field in arcpy.ListFields('zsj_dil_demo_pnt'):\n",
      "    if (field.name not in ageFields):\n",
      "        delFields.append(field.name)"
     ],
     "language": "python",
     "metadata": {},
     "outputs": [],
     "prompt_number": 26
    },
    {
     "cell_type": "code",
     "collapsed": false,
     "input": [
      "arcpy.DeleteField_management('zsj_dil_demo_pnt', delFields)"
     ],
     "language": "python",
     "metadata": {},
     "outputs": [
      {
       "metadata": {},
       "output_type": "pyout",
       "prompt_number": 28,
       "text": [
        "<Result 'C:\\\\DEVEL\\\\DATA\\\\sport-svazy\\\\sportovni_svazy.gdb\\\\zsj_dil_demo_pnt'>"
       ]
      }
     ],
     "prompt_number": 28
    },
    {
     "cell_type": "code",
     "collapsed": false,
     "input": [
      "omit = ['Shape', 'OBJECTID']\n",
      "\n",
      "for doField in ageFields:\n",
      "    if (doField in omit):\n",
      "        continue\n",
      "    else:\n",
      "        doExpression = \"nuller(!\" + doField + \"!)\"\n",
      "        arcpy.CalculateField_management(in_table='zsj_dil_demo_pnt', field=doField, expression=doExpression, expression_type=\"PYTHON_9.3\", code_block=\"def nuller(value):\\n if not value:\\n  return 0\\n else:\\n  return value\\n\")"
     ],
     "language": "python",
     "metadata": {},
     "outputs": [],
     "prompt_number": 32
    },
    {
     "cell_type": "code",
     "collapsed": false,
     "input": [
      "category = {'zaci_muzi': ['Sum_u112100303', 'Sum_u112100403', 'Sum_u112100503', 'Sum_u112100603', 'Sum_u112100703'], 'zaci_zeny': ['Sum_u112100304', 'Sum_u112100404', 'Sum_u112100504', 'Sum_u112100604', 'Sum_u112100704'], 'dorost_muzi': ['Sum_u112100803', 'Sum_u112100903'], 'dorost_zeny': ['Sum_u112100804', 'Sum_u112100904'], 'dospeli_zeny': ['Sum_u112101004', 'Sum_u112101104', 'Sum_u112101204', 'Sum_u112101304', 'Sum_u112101404', 'Sum_u112101504', 'Sum_u112101604', 'Sum_u112101704', 'Sum_u112101804', 'Sum_u112101904', 'Sum_u112102004', 'Sum_u112102104', 'Sum_u112102204', 'Sum_u112102304', 'Sum_u112102404', 'Sum_u112102504', 'Sum_u112102604', 'Sum_u112102704'], 'dospeli_muzi': ['Sum_u112101003', 'Sum_u112101103', 'Sum_u112101203', 'Sum_u112101303', 'Sum_u112101403', 'Sum_u112101503', 'Sum_u112101603', 'Sum_u112101703', 'Sum_u112101803', 'Sum_u112101903', 'Sum_u112102003', 'Sum_u112102103', 'Sum_u112102203', 'Sum_u112102303', 'Sum_u112102403', 'Sum_u112102503', 'Sum_u112102603', 'Sum_u112102703']}"
     ],
     "language": "python",
     "metadata": {},
     "outputs": [],
     "prompt_number": 2
    },
    {
     "cell_type": "code",
     "collapsed": false,
     "input": [
      "for cat in category:\n",
      "    formula = \"\"\n",
      "    for field in category[cat]:\n",
      "        formula = formula + '!' + field + '! + '\n",
      "    formula = formula.rstrip(' + ')\n",
      "    \n",
      "    arcpy.AddField_management('okresy_cvicenci_demografie', cat, \"LONG\")\n",
      "    \n",
      "    arcpy.CalculateField_management(in_table='okresy_cvicenci_demografie', field=cat, expression=formula, expression_type=\"PYTHON_9.3\", code_block=\"\")"
     ],
     "language": "python",
     "metadata": {},
     "outputs": [],
     "prompt_number": 6
    },
    {
     "cell_type": "code",
     "collapsed": false,
     "input": [
      "#cleanup\n",
      "delFields  = []\n",
      "\n",
      "for field in arcpy.ListFields('okresy_cvicenci_demografie'):\n",
      "    if (field.name.startswith('Sum')):\n",
      "        delFields.append(field.name)\n",
      "    else:\n",
      "        continue\n",
      "        \n",
      "arcpy.DeleteField_management('okresy_cvicenci_demografie', delFields)"
     ],
     "language": "python",
     "metadata": {},
     "outputs": [
      {
       "metadata": {},
       "output_type": "pyout",
       "prompt_number": 7,
       "text": [
        "<Result 'C:\\\\DEVEL\\\\DATA\\\\sport-svazy\\\\sportovni_svazy.gdb\\\\okresy_cvicenci_demografie'>"
       ]
      }
     ],
     "prompt_number": 7
    }
   ],
   "metadata": {}
  }
 ]
}